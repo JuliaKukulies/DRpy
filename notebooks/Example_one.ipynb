{
  "nbformat": 4,
  "nbformat_minor": 0,
  "metadata": {
    "kernelspec": {
      "display_name": "Python 3",
      "language": "python",
      "name": "python3"
    },
    "language_info": {
      "codemirror_mode": {
        "name": "ipython",
        "version": 3
      },
      "file_extension": ".py",
      "mimetype": "text/x-python",
      "name": "python",
      "nbconvert_exporter": "python",
      "pygments_lexer": "ipython3",
      "version": "3.7.3"
    },
    "colab": {
      "name": "Example_one.ipynb",
      "provenance": [],
      "include_colab_link": true
    }
  },
  "cells": [
    {
      "cell_type": "markdown",
      "metadata": {
        "id": "view-in-github",
        "colab_type": "text"
      },
      "source": [
        "<a href=\"https://colab.research.google.com/github/dopplerchase/DRpy/blob/master/notebooks/Example_one.ipynb\" target=\"_parent\"><img src=\"https://colab.research.google.com/assets/colab-badge.svg\" alt=\"Open In Colab\"/></a>"
      ]
    },
    {
      "cell_type": "markdown",
      "metadata": {
        "id": "9MeygYrcTopZ",
        "colab_type": "text"
      },
      "source": [
        "# Welcome to DRpy (derpy)\n",
        "\n",
        "Here is a simple notebook to help you get going.  "
      ]
    },
    {
      "cell_type": "markdown",
      "metadata": {
        "id": "eaOjXXDdTope",
        "colab_type": "text"
      },
      "source": [
        "### If you want mapping, please install cartopy "
      ]
    },
    {
      "cell_type": "code",
      "metadata": {
        "id": "JW5WeHjUTopg",
        "colab_type": "code",
        "colab": {
          "base_uri": "https://localhost:8080/",
          "height": 717
        },
        "outputId": "ec1209ad-ff28-4a8a-fbe1-2da207dd4929"
      },
      "source": [
        "#first install cartopy\n",
        "!apt-get -qq install libproj-dev proj-data proj-bin libgeos-dev\n",
        "!pip install Cython\n",
        "!pip install cartopy"
      ],
      "execution_count": 1,
      "outputs": [
        {
          "output_type": "stream",
          "text": [
            "Selecting previously unselected package libgeos-dev.\n",
            "(Reading database ... 135004 files and directories currently installed.)\n",
            "Preparing to unpack .../libgeos-dev_3.6.2-1build2_amd64.deb ...\n",
            "Unpacking libgeos-dev (3.6.2-1build2) ...\n",
            "Selecting previously unselected package libproj-dev:amd64.\n",
            "Preparing to unpack .../libproj-dev_4.9.3-2_amd64.deb ...\n",
            "Unpacking libproj-dev:amd64 (4.9.3-2) ...\n",
            "Selecting previously unselected package proj-bin.\n",
            "Preparing to unpack .../proj-bin_4.9.3-2_amd64.deb ...\n",
            "Unpacking proj-bin (4.9.3-2) ...\n",
            "Setting up libproj-dev:amd64 (4.9.3-2) ...\n",
            "Setting up libgeos-dev (3.6.2-1build2) ...\n",
            "Setting up proj-bin (4.9.3-2) ...\n",
            "Processing triggers for man-db (2.8.3-2ubuntu0.1) ...\n",
            "Requirement already satisfied: Cython in /usr/local/lib/python3.6/dist-packages (0.29.14)\n",
            "Collecting cartopy\n",
            "\u001b[?25l  Downloading https://files.pythonhosted.org/packages/e5/92/fe8838fa8158931906dfc4f16c5c1436b3dd2daf83592645b179581403ad/Cartopy-0.17.0.tar.gz (8.9MB)\n",
            "\u001b[K     |████████████████████████████████| 8.9MB 4.3MB/s \n",
            "\u001b[?25h  Installing build dependencies ... \u001b[?25l\u001b[?25hdone\n",
            "  Getting requirements to build wheel ... \u001b[?25l\u001b[?25hdone\n",
            "    Preparing wheel metadata ... \u001b[?25l\u001b[?25hdone\n",
            "Requirement already satisfied: six>=1.3.0 in /usr/local/lib/python3.6/dist-packages (from cartopy) (1.12.0)\n",
            "Collecting pyshp>=1.1.4\n",
            "\u001b[?25l  Downloading https://files.pythonhosted.org/packages/27/16/3bf15aa864fb77845fab8007eda22c2bd67bd6c1fd13496df452c8c43621/pyshp-2.1.0.tar.gz (215kB)\n",
            "\u001b[K     |████████████████████████████████| 225kB 53.2MB/s \n",
            "\u001b[?25hRequirement already satisfied: setuptools>=0.7.2 in /usr/local/lib/python3.6/dist-packages (from cartopy) (42.0.2)\n",
            "Requirement already satisfied: numpy>=1.10 in /usr/local/lib/python3.6/dist-packages (from cartopy) (1.17.5)\n",
            "Requirement already satisfied: shapely>=1.5.6 in /usr/local/lib/python3.6/dist-packages (from cartopy) (1.6.4.post2)\n",
            "Building wheels for collected packages: cartopy\n",
            "  Building wheel for cartopy (PEP 517) ... \u001b[?25l\u001b[?25hdone\n",
            "  Created wheel for cartopy: filename=Cartopy-0.17.0-cp36-cp36m-linux_x86_64.whl size=9713551 sha256=c573da5ea3cc112a624a28d62e5ba8b8a428a6c48dffcf2c3f99d9da53af5054\n",
            "  Stored in directory: /root/.cache/pip/wheels/cd/cf/40/539f798f94e921e94fd376a5f9d213a6febe77754c0b187c73\n",
            "Successfully built cartopy\n",
            "Building wheels for collected packages: pyshp\n",
            "  Building wheel for pyshp (setup.py) ... \u001b[?25l\u001b[?25hdone\n",
            "  Created wheel for pyshp: filename=pyshp-2.1.0-cp36-none-any.whl size=32607 sha256=d32f8be5076d14ca28bb87a5ce8c4babae20b1db0b253e36bf1a681a6442458c\n",
            "  Stored in directory: /root/.cache/pip/wheels/a6/0c/de/321b5192ad416b328975a2f0385f72c64db4656501eba7cc1a\n",
            "Successfully built pyshp\n",
            "Installing collected packages: pyshp, cartopy\n",
            "Successfully installed cartopy-0.17.0 pyshp-2.1.0\n"
          ],
          "name": "stdout"
        }
      ]
    },
    {
      "cell_type": "markdown",
      "metadata": {
        "id": "nNSsCzC-Top0",
        "colab_type": "text"
      },
      "source": [
        "### Ok, now go clone the repository \n",
        "\n",
        "The reason we are cloning the directory is to grab the example file. If you don't need this file, just install this way: \n",
        "\n",
        "!pip install git+https://github.com/dopplerchase/DRpy.git"
      ]
    },
    {
      "cell_type": "code",
      "metadata": {
        "id": "92DDacVTTop5",
        "colab_type": "code",
        "colab": {
          "base_uri": "https://localhost:8080/",
          "height": 136
        },
        "outputId": "b0404ed1-e7f3-4cf6-c151-28eab9044a9c"
      },
      "source": [
        "#clone repository\n",
        "!git clone https://github.com/dopplerchase/DRpy.git"
      ],
      "execution_count": 2,
      "outputs": [
        {
          "output_type": "stream",
          "text": [
            "Cloning into 'DRpy'...\n",
            "remote: Enumerating objects: 78, done.\u001b[K\n",
            "remote: Counting objects: 100% (78/78), done.\u001b[K\n",
            "remote: Compressing objects: 100% (60/60), done.\u001b[K\n",
            "remote: Total 182 (delta 28), reused 61 (delta 18), pack-reused 104\u001b[K\n",
            "Receiving objects: 100% (182/182), 78.38 MiB | 32.65 MiB/s, done.\n",
            "Resolving deltas: 100% (62/62), done.\n"
          ],
          "name": "stdout"
        }
      ]
    },
    {
      "cell_type": "markdown",
      "metadata": {
        "id": "qv_45F8uToqB",
        "colab_type": "text"
      },
      "source": [
        "### Install it "
      ]
    },
    {
      "cell_type": "code",
      "metadata": {
        "id": "e3UKu8rTToqI",
        "colab_type": "code",
        "colab": {
          "base_uri": "https://localhost:8080/",
          "height": 561
        },
        "outputId": "b05634fa-f384-4b5c-af10-f938f7b252ed"
      },
      "source": [
        "import os\n",
        "\n",
        "#cd into folder\n",
        "os.chdir('./DRpy/')\n",
        "#install \n",
        "!python setup.py install\n",
        "#cd into notebooks \n",
        "os.chdir('./notebooks/')\n"
      ],
      "execution_count": 3,
      "outputs": [
        {
          "output_type": "stream",
          "text": [
            "running install\n",
            "running build\n",
            "running build_py\n",
            "creating build\n",
            "creating build/lib\n",
            "creating build/lib/drpy\n",
            "copying drpy/__init__.py -> build/lib/drpy\n",
            "creating build/lib/drpy/core\n",
            "copying drpy/core/__init__.py -> build/lib/drpy/core\n",
            "copying drpy/core/gpmdpr.py -> build/lib/drpy/core\n",
            "creating build/lib/drpy/graph\n",
            "copying drpy/graph/graph.py -> build/lib/drpy/graph\n",
            "copying drpy/graph/__init__.py -> build/lib/drpy/graph\n",
            "copying drpy/graph/colormaps_drpy.py -> build/lib/drpy/graph\n",
            "running install_lib\n",
            "creating /usr/local/lib/python3.6/dist-packages/drpy\n",
            "creating /usr/local/lib/python3.6/dist-packages/drpy/core\n",
            "copying build/lib/drpy/core/__init__.py -> /usr/local/lib/python3.6/dist-packages/drpy/core\n",
            "copying build/lib/drpy/core/gpmdpr.py -> /usr/local/lib/python3.6/dist-packages/drpy/core\n",
            "copying build/lib/drpy/__init__.py -> /usr/local/lib/python3.6/dist-packages/drpy\n",
            "creating /usr/local/lib/python3.6/dist-packages/drpy/graph\n",
            "copying build/lib/drpy/graph/graph.py -> /usr/local/lib/python3.6/dist-packages/drpy/graph\n",
            "copying build/lib/drpy/graph/__init__.py -> /usr/local/lib/python3.6/dist-packages/drpy/graph\n",
            "copying build/lib/drpy/graph/colormaps_drpy.py -> /usr/local/lib/python3.6/dist-packages/drpy/graph\n",
            "byte-compiling /usr/local/lib/python3.6/dist-packages/drpy/core/__init__.py to __init__.cpython-36.pyc\n",
            "byte-compiling /usr/local/lib/python3.6/dist-packages/drpy/core/gpmdpr.py to gpmdpr.cpython-36.pyc\n",
            "byte-compiling /usr/local/lib/python3.6/dist-packages/drpy/__init__.py to __init__.cpython-36.pyc\n",
            "byte-compiling /usr/local/lib/python3.6/dist-packages/drpy/graph/graph.py to graph.cpython-36.pyc\n",
            "byte-compiling /usr/local/lib/python3.6/dist-packages/drpy/graph/__init__.py to __init__.cpython-36.pyc\n",
            "byte-compiling /usr/local/lib/python3.6/dist-packages/drpy/graph/colormaps_drpy.py to colormaps_drpy.cpython-36.pyc\n",
            "running install_egg_info\n",
            "Writing /usr/local/lib/python3.6/dist-packages/DRpy-0.0.0.egg-info\n"
          ],
          "name": "stdout"
        }
      ]
    },
    {
      "cell_type": "markdown",
      "metadata": {
        "id": "sqMGdbJ0ToqP",
        "colab_type": "text"
      },
      "source": [
        "## Now we can actually use it!"
      ]
    },
    {
      "cell_type": "code",
      "metadata": {
        "id": "gBOdWeQ5ToqS",
        "colab_type": "code",
        "colab": {
          "base_uri": "https://localhost:8080/",
          "height": 34
        },
        "outputId": "4f31f4e1-8bdf-49a8-cd6b-bfd17b6683d0"
      },
      "source": [
        "import drpy\n",
        "%pylab inline"
      ],
      "execution_count": 4,
      "outputs": [
        {
          "output_type": "stream",
          "text": [
            "Populating the interactive namespace from numpy and matplotlib\n"
          ],
          "name": "stdout"
        }
      ]
    },
    {
      "cell_type": "code",
      "metadata": {
        "id": "MYR7QqdOToqc",
        "colab_type": "code",
        "colab": {}
      },
      "source": [
        "filename = '../example_file/2A.GPM.DPR.V820180723.20200117-S181128-E184127.V06A.RT-H5'"
      ],
      "execution_count": 0,
      "outputs": []
    },
    {
      "cell_type": "code",
      "metadata": {
        "id": "ArLtGDf1Toql",
        "colab_type": "code",
        "colab": {}
      },
      "source": [
        "center_lat =  47.5\n",
        "center_lon = -55 \n",
        "zoom = 10\n",
        "corners = [center_lon - zoom,center_lon +zoom, center_lat-zoom,center_lat+zoom]\n",
        "\n",
        "dpr = drpy.core.GPMDPR(filename = filename,boundingbox=corners)\n",
        "dpr.read()\n",
        "dpr.toxr()\n",
        "#to reduce size of data, drop empty cross-track sections \n",
        "dpr.xrds = dpr.xrds.dropna(dim='along_track',how='all')"
      ],
      "execution_count": 0,
      "outputs": []
    },
    {
      "cell_type": "markdown",
      "metadata": {
        "id": "RKHRtzfLToqw",
        "colab_type": "text"
      },
      "source": [
        "### lets take a gander at the xarray datatset (.xrds)"
      ]
    },
    {
      "cell_type": "code",
      "metadata": {
        "id": "gVFhoGmIToqz",
        "colab_type": "code",
        "colab": {
          "base_uri": "https://localhost:8080/",
          "height": 374
        },
        "outputId": "ff30ad0d-cd13-4628-d049-b7d5e54e9b70"
      },
      "source": [
        "dpr.xrds"
      ],
      "execution_count": 8,
      "outputs": [
        {
          "output_type": "execute_result",
          "data": {
            "text/html": [
              "<pre>&lt;xarray.Dataset&gt;\n",
              "Dimensions:          (along_track: 480, cross_track: 25, range: 176)\n",
              "Coordinates:\n",
              "    lons             (along_track, cross_track) float32 -61.959126 ... -45.04214\n",
              "    lats             (along_track, cross_track) float32 36.90785 ... 54.69831\n",
              "    time             (along_track, cross_track) datetime64[ns] 2020-01-17T18:16:08 ... 2020-01-17T18:21:43\n",
              "    alt              (along_track, cross_track, range) float64 21.7 ... 0.1236\n",
              "Dimensions without coordinates: along_track, cross_track, range\n",
              "Data variables:\n",
              "    flagSurfaceSnow  (along_track, cross_track) float64 nan nan nan ... nan 0.0\n",
              "    flagPrecip       (along_track, cross_track) float64 nan nan nan ... nan 0.0\n",
              "    clutter          (along_track, cross_track, range) float64 nan nan ... 1.0\n",
              "    nearsurfaceKu    (along_track, cross_track) float32 nan nan nan ... nan nan\n",
              "    nearsurfaceKa    (along_track, cross_track) float32 nan nan nan ... nan nan\n",
              "    NSKu_c           (along_track, cross_track, range) float32 nan nan ... nan\n",
              "    MSKa_c           (along_track, cross_track, range) float32 nan nan ... nan\n",
              "    echotop          (along_track, cross_track, range) float64 nan nan ... 0.0\n",
              "    NSKu             (along_track, cross_track, range) float32 nan nan ... nan\n",
              "    MSKa             (along_track, cross_track, range) float32 nan nan ... nan\n",
              "    R                (along_track, cross_track, range) float32 nan nan ... nan\n",
              "    Dm_dpr           (along_track, cross_track, range) float32 nan nan ... nan</pre>"
            ],
            "text/plain": [
              "<xarray.Dataset>\n",
              "Dimensions:          (along_track: 480, cross_track: 25, range: 176)\n",
              "Coordinates:\n",
              "    lons             (along_track, cross_track) float32 -61.959126 ... -45.04214\n",
              "    lats             (along_track, cross_track) float32 36.90785 ... 54.69831\n",
              "    time             (along_track, cross_track) datetime64[ns] 2020-01-17T18:16:08 ... 2020-01-17T18:21:43\n",
              "    alt              (along_track, cross_track, range) float64 21.7 ... 0.1236\n",
              "Dimensions without coordinates: along_track, cross_track, range\n",
              "Data variables:\n",
              "    flagSurfaceSnow  (along_track, cross_track) float64 nan nan nan ... nan 0.0\n",
              "    flagPrecip       (along_track, cross_track) float64 nan nan nan ... nan 0.0\n",
              "    clutter          (along_track, cross_track, range) float64 nan nan ... 1.0\n",
              "    nearsurfaceKu    (along_track, cross_track) float32 nan nan nan ... nan nan\n",
              "    nearsurfaceKa    (along_track, cross_track) float32 nan nan nan ... nan nan\n",
              "    NSKu_c           (along_track, cross_track, range) float32 nan nan ... nan\n",
              "    MSKa_c           (along_track, cross_track, range) float32 nan nan ... nan\n",
              "    echotop          (along_track, cross_track, range) float64 nan nan ... 0.0\n",
              "    NSKu             (along_track, cross_track, range) float32 nan nan ... nan\n",
              "    MSKa             (along_track, cross_track, range) float32 nan nan ... nan\n",
              "    R                (along_track, cross_track, range) float32 nan nan ... nan\n",
              "    Dm_dpr           (along_track, cross_track, range) float32 nan nan ... nan"
            ]
          },
          "metadata": {
            "tags": []
          },
          "execution_count": 8
        }
      ]
    }
  ]
}